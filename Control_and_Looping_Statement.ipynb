{
  "nbformat": 4,
  "nbformat_minor": 0,
  "metadata": {
    "colab": {
      "provenance": [],
      "authorship_tag": "ABX9TyMf7UWGj0CR/9Fa++/5jsbp",
      "include_colab_link": true
    },
    "kernelspec": {
      "name": "python3",
      "display_name": "Python 3"
    },
    "language_info": {
      "name": "python"
    }
  },
  "cells": [
    {
      "cell_type": "markdown",
      "metadata": {
        "id": "view-in-github",
        "colab_type": "text"
      },
      "source": [
        "<a href=\"https://colab.research.google.com/github/olaso14/PLNG211-QC/blob/main/Control_and_Looping_Statement.ipynb\" target=\"_parent\"><img src=\"https://colab.research.google.com/assets/colab-badge.svg\" alt=\"Open In Colab\"/></a>"
      ]
    },
    {
      "cell_type": "code",
      "execution_count": 2,
      "metadata": {
        "colab": {
          "base_uri": "https://localhost:8080/"
        },
        "id": "wBkRW_YBAkWx",
        "outputId": "7f2a6349-312e-4f3c-9172-d44f83db9038"
      },
      "outputs": [
        {
          "output_type": "stream",
          "name": "stdout",
          "text": [
            "a is less than b\n"
          ]
        }
      ],
      "source": [
        "#If Statement \n",
        "\n",
        "a = 12\n",
        "\n",
        "b = 100\n",
        "\n",
        "if a<b:\n",
        "\n",
        " print(\"a is less than b\")"
      ]
    },
    {
      "cell_type": "code",
      "source": [
        "#Elif Statement\n",
        "if a<b:\n",
        " print(\"a is less than b\")\n",
        "elif a>b:\n",
        " print(\"a is greater than b\")"
      ],
      "metadata": {
        "colab": {
          "base_uri": "https://localhost:8080/"
        },
        "id": "cBDn3tIGA5Q3",
        "outputId": "d1101570-4c6d-42b7-96f4-5fd2465ff114"
      },
      "execution_count": 3,
      "outputs": [
        {
          "output_type": "stream",
          "name": "stdout",
          "text": [
            "a is less than b\n"
          ]
        }
      ]
    },
    {
      "cell_type": "code",
      "source": [
        "if a<b:\n",
        " print(\"a is less than b\")\n",
        "elif a>b:\n",
        " print(\"a is greater than b\")\n",
        "else:\n",
        " print(\"a is equal to b\")"
      ],
      "metadata": {
        "colab": {
          "base_uri": "https://localhost:8080/"
        },
        "id": "hBrQD7TjA-bZ",
        "outputId": "300793a9-2284-46a7-bc55-dd45271d760d"
      },
      "execution_count": 4,
      "outputs": [
        {
          "output_type": "stream",
          "name": "stdout",
          "text": [
            "a is less than b\n"
          ]
        }
      ]
    },
    {
      "cell_type": "code",
      "source": [
        "#Short Hand If Statement\n",
        "\n",
        "c = 10;\n",
        "\n",
        "d = 5\n",
        "\n",
        "if c>d: print(\"c>d\")"
      ],
      "metadata": {
        "colab": {
          "base_uri": "https://localhost:8080/"
        },
        "id": "hw0XktVBBEUS",
        "outputId": "a2562f6d-d2ae-498c-ed95-fed05b2e5859"
      },
      "execution_count": 6,
      "outputs": [
        {
          "output_type": "stream",
          "name": "stdout",
          "text": [
            "c>d\n"
          ]
        }
      ]
    },
    {
      "cell_type": "code",
      "source": [
        "#Short Hand If Else Statement\n",
        "\n",
        "print(\"c>d\") if c>d else print(\"d>c\")"
      ],
      "metadata": {
        "colab": {
          "base_uri": "https://localhost:8080/"
        },
        "id": "JlqdNqZtBUT_",
        "outputId": "bc7cf83c-e45e-40ba-a710-fde353fa82b4"
      },
      "execution_count": 7,
      "outputs": [
        {
          "output_type": "stream",
          "name": "stdout",
          "text": [
            "c>d\n"
          ]
        }
      ]
    },
    {
      "cell_type": "code",
      "source": [
        "#And Statement\n",
        "if 5>10 and 0>4:\n",
        " print(\"both statement are true\")\n",
        "else:\n",
        " print(\"one of the statements is false/both statement are not true\")"
      ],
      "metadata": {
        "colab": {
          "base_uri": "https://localhost:8080/"
        },
        "id": "KFlZM9wLB19F",
        "outputId": "7c503cfe-75ba-4a12-d7dd-90e5b3571a78"
      },
      "execution_count": 8,
      "outputs": [
        {
          "output_type": "stream",
          "name": "stdout",
          "text": [
            "one of the statements is false/both statement are not true\n"
          ]
        }
      ]
    },
    {
      "cell_type": "code",
      "source": [
        "#Or Statement\n",
        "if 5>10 or 8>4:\n",
        " print(\"True\")\n",
        "else:\n",
        " print(\"False\")"
      ],
      "metadata": {
        "colab": {
          "base_uri": "https://localhost:8080/"
        },
        "id": "l_qgtp1nB-qo",
        "outputId": "08e6630b-5d52-4030-baae-bfa39ad67c32"
      },
      "execution_count": 9,
      "outputs": [
        {
          "output_type": "stream",
          "name": "stdout",
          "text": [
            "True\n"
          ]
        }
      ]
    },
    {
      "cell_type": "code",
      "source": [
        "#Bitwise operator ^ (xor)\n",
        "e = 4 #0100 in binary\n",
        "f = 2 #0010 in binary\n",
        "\n",
        "e^f"
      ],
      "metadata": {
        "colab": {
          "base_uri": "https://localhost:8080/"
        },
        "id": "isUZyk_ACF-S",
        "outputId": "7d54134d-8250-447c-db3b-c4d45b60188a"
      },
      "execution_count": 10,
      "outputs": [
        {
          "output_type": "execute_result",
          "data": {
            "text/plain": [
              "6"
            ]
          },
          "metadata": {},
          "execution_count": 10
        }
      ]
    },
    {
      "cell_type": "code",
      "source": [
        "#Nested If Statement\n",
        "\n",
        "x = 41\n",
        "if x>10:\n",
        " print (\"number is above 10\")\n",
        " if x>20:\n",
        "  print(\"number is above 20\")\n",
        "  if x>30:\n",
        "   print(\"number is above 30\")\n",
        "   if x>40:\n",
        "    print(\"number is above 40\")\n",
        "   else:\n",
        "     print(\"number is less than 50\")"
      ],
      "metadata": {
        "colab": {
          "base_uri": "https://localhost:8080/"
        },
        "id": "3p2mQqBhCMtP",
        "outputId": "b402b792-aff8-454f-baa5-18905937868d"
      },
      "execution_count": 11,
      "outputs": [
        {
          "output_type": "stream",
          "name": "stdout",
          "text": [
            "number is above 10\n",
            "number is above 20\n",
            "number is above 30\n",
            "number is above 40\n"
          ]
        }
      ]
    },
    {
      "cell_type": "code",
      "source": [
        "#Application Number 1: Write a program that determine if the input age is qualified to vote or not.\n",
        "#The qualifying age is 18 years old and above\n",
        "\n",
        "age = int(input(\"Enter Age : \"))\n",
        "\n",
        "if age>=18:\n",
        "        status=\"Eligible\"\n",
        "else:\n",
        "    status=\"Not Eligible\"\n",
        "\n",
        "print(\"You are \",status,\" for Vote.\")"
      ],
      "metadata": {
        "colab": {
          "base_uri": "https://localhost:8080/"
        },
        "id": "cFT_HDCeCVN4",
        "outputId": "88ad4587-3184-450a-9216-c7ebd113c652"
      },
      "execution_count": 12,
      "outputs": [
        {
          "output_type": "stream",
          "name": "stdout",
          "text": [
            "Enter Age : 12\n",
            "You are  Not Eligible  for Vote.\n"
          ]
        }
      ]
    },
    {
      "cell_type": "code",
      "source": [
        "#Application Number 2: Write a program determine if Possitive Negative or Zero\n",
        "num = float(input(\"Input a number: \"))\n",
        "if num > 0:\n",
        "   print(\"It is Positive number\")\n",
        "elif num == 0:\n",
        "   print(\"It is Zero\")\n",
        "else:\n",
        "   print(\"It is a Negative number\")"
      ],
      "metadata": {
        "colab": {
          "base_uri": "https://localhost:8080/"
        },
        "id": "8HuKwtlfI1d4",
        "outputId": "d2b24af2-b4a6-46b5-b9d4-3ff7ca34026a"
      },
      "execution_count": 15,
      "outputs": [
        {
          "output_type": "stream",
          "name": "stdout",
          "text": [
            "Input a number: 12\n",
            "It is Positive number\n"
          ]
        }
      ]
    },
    {
      "cell_type": "code",
      "source": [
        "#For loop Statement\n",
        "week = [\"Sunday\", \"Monday\", \"Tuesday\", \"Wednesday\", \"Thursday\", \"Friday\", \"Saturday\"]\n",
        "\n",
        "for y in week:\n",
        " print(y)"
      ],
      "metadata": {
        "colab": {
          "base_uri": "https://localhost:8080/"
        },
        "id": "RgAMVBl8JPgv",
        "outputId": "045a3a7c-160a-47c9-d69b-846850fcd249"
      },
      "execution_count": 16,
      "outputs": [
        {
          "output_type": "stream",
          "name": "stdout",
          "text": [
            "Sunday\n",
            "Monday\n",
            "Tuesday\n",
            "Wednesday\n",
            "Thursday\n",
            "Friday\n",
            "Saturday\n"
          ]
        }
      ]
    },
    {
      "cell_type": "code",
      "source": [
        "\n",
        "week = [\"Sunday\", \"Monday\", \"Tuesday\", \"Wednesday\", \"Thursday\", \"Friday\", \"Saturday\"]\n",
        "\n",
        "for y in week:\n",
        "\n",
        " print(y)\n",
        "\n",
        " if y == \"Thursday\":\n",
        "\n",
        "  break"
      ],
      "metadata": {
        "colab": {
          "base_uri": "https://localhost:8080/"
        },
        "id": "MB3xNrcWJVTc",
        "outputId": "e3e9ad59-5a22-4bba-f5ac-7b35428aa896"
      },
      "execution_count": 17,
      "outputs": [
        {
          "output_type": "stream",
          "name": "stdout",
          "text": [
            "Sunday\n",
            "Monday\n",
            "Tuesday\n",
            "Wednesday\n",
            "Thursday\n"
          ]
        }
      ]
    },
    {
      "cell_type": "code",
      "source": [
        "week = [\"Sunday\", \"Monday\", \"Tuesday\", \"Wednesday\", \"Thursday\", \"Friday\", \"Saturday\"]\n",
        "\n",
        "for y in week:\n",
        " print(y)\n",
        " if y == \"Thursday\":\n",
        "  break\n",
        " print(y)"
      ],
      "metadata": {
        "colab": {
          "base_uri": "https://localhost:8080/"
        },
        "id": "1i6TQw-wJaPy",
        "outputId": "1107a0c3-2968-4942-e4cb-0e6f96b0a363"
      },
      "execution_count": 18,
      "outputs": [
        {
          "output_type": "stream",
          "name": "stdout",
          "text": [
            "Sunday\n",
            "Sunday\n",
            "Monday\n",
            "Monday\n",
            "Tuesday\n",
            "Tuesday\n",
            "Wednesday\n",
            "Wednesday\n",
            "Thursday\n"
          ]
        }
      ]
    },
    {
      "cell_type": "code",
      "source": [
        "\n",
        "for x in \"week\":\n",
        "\n",
        " print(x)"
      ],
      "metadata": {
        "colab": {
          "base_uri": "https://localhost:8080/"
        },
        "id": "w8tCGnwTJffI",
        "outputId": "2276d685-0ec8-4a4d-9068-df9a69551c16"
      },
      "execution_count": 19,
      "outputs": [
        {
          "output_type": "stream",
          "name": "stdout",
          "text": [
            "w\n",
            "e\n",
            "e\n",
            "k\n"
          ]
        }
      ]
    },
    {
      "cell_type": "code",
      "source": [
        "#Range () function\n",
        "for x in range(6):\n",
        " print(x)"
      ],
      "metadata": {
        "colab": {
          "base_uri": "https://localhost:8080/"
        },
        "id": "ogUzjOHfJkS4",
        "outputId": "24b76156-5565-4ba1-8301-bdaa726b50d8"
      },
      "execution_count": 21,
      "outputs": [
        {
          "output_type": "stream",
          "name": "stdout",
          "text": [
            "0\n",
            "1\n",
            "2\n",
            "3\n",
            "4\n",
            "5\n"
          ]
        }
      ]
    },
    {
      "cell_type": "code",
      "source": [
        "for x in range(2,6+1,2):\n",
        " print(x)"
      ],
      "metadata": {
        "colab": {
          "base_uri": "https://localhost:8080/"
        },
        "id": "BPrIN12eJ59K",
        "outputId": "ec4a1c14-2a93-446c-99fa-a4ecd071030e"
      },
      "execution_count": 22,
      "outputs": [
        {
          "output_type": "stream",
          "name": "stdout",
          "text": [
            "2\n",
            "4\n",
            "6\n"
          ]
        }
      ]
    },
    {
      "cell_type": "code",
      "source": [
        "adjective = [\"red\", \"bilog\", \"tasty\"]\n",
        "fruits = [\"apple\", \"banana\", \"cherry\"]\n",
        "  \n",
        "for x in adjective:\n",
        "  for y in fruits:\n",
        "   print(x,y)"
      ],
      "metadata": {
        "colab": {
          "base_uri": "https://localhost:8080/"
        },
        "id": "q174SRO7J-04",
        "outputId": "fae5af2a-64d8-4fef-a46d-67a03a15d5b1"
      },
      "execution_count": 43,
      "outputs": [
        {
          "output_type": "stream",
          "name": "stdout",
          "text": [
            "red apple\n",
            "red banana\n",
            "red cherry\n",
            "bilog apple\n",
            "bilog banana\n",
            "bilog cherry\n",
            "tasty apple\n",
            "tasty banana\n",
            "tasty cherry\n"
          ]
        }
      ]
    },
    {
      "cell_type": "code",
      "source": [
        "i = 1\n",
        "while i<6:\n",
        " print(i)\n",
        " i+=1"
      ],
      "metadata": {
        "colab": {
          "base_uri": "https://localhost:8080/"
        },
        "id": "2lCyrUKoK5Hp",
        "outputId": "2e3b3a5f-ba57-4cce-91e2-68a1fbfbb77b"
      },
      "execution_count": 42,
      "outputs": [
        {
          "output_type": "stream",
          "name": "stdout",
          "text": [
            "1\n",
            "2\n",
            "3\n",
            "4\n",
            "5\n"
          ]
        }
      ]
    },
    {
      "cell_type": "code",
      "source": [
        "i = 1\n",
        "while i<6:\n",
        "  print(i)\n",
        "  if i ==3:\n",
        "   break\n",
        "  i+=1"
      ],
      "metadata": {
        "colab": {
          "base_uri": "https://localhost:8080/"
        },
        "id": "Yi-NkqHXLGsq",
        "outputId": "e54f07be-980b-43c0-e34e-c20cfd7c655e"
      },
      "execution_count": 65,
      "outputs": [
        {
          "output_type": "stream",
          "name": "stdout",
          "text": [
            "1\n",
            "2\n",
            "3\n"
          ]
        }
      ]
    },
    {
      "cell_type": "code",
      "source": [
        "#Using while loop and break statement, the ouput is only 3\n",
        "i = 3\n",
        "while i<=3:\n",
        " print(i)\n",
        " break"
      ],
      "metadata": {
        "colab": {
          "base_uri": "https://localhost:8080/"
        },
        "id": "8ferC8ypM5Xt",
        "outputId": "2cf27fa7-68c9-484b-c2d2-2f6264c184e6"
      },
      "execution_count": 66,
      "outputs": [
        {
          "output_type": "stream",
          "name": "stdout",
          "text": [
            "3\n"
          ]
        }
      ]
    }
  ]
}