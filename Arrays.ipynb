{
  "nbformat": 4,
  "nbformat_minor": 0,
  "metadata": {
    "colab": {
      "provenance": [],
      "authorship_tag": "ABX9TyNFI8HQz/phijnHGIOwWNpn",
      "include_colab_link": true
    },
    "kernelspec": {
      "name": "python3",
      "display_name": "Python 3"
    },
    "language_info": {
      "name": "python"
    }
  },
  "cells": [
    {
      "cell_type": "markdown",
      "metadata": {
        "id": "view-in-github",
        "colab_type": "text"
      },
      "source": [
        "<a href=\"https://colab.research.google.com/github/OlasoPatrickJonesV/PLNG211-QC/blob/main/Arrays.ipynb\" target=\"_parent\"><img src=\"https://colab.research.google.com/assets/colab-badge.svg\" alt=\"Open In Colab\"/></a>"
      ]
    },
    {
      "cell_type": "code",
      "execution_count": null,
      "metadata": {
        "colab": {
          "base_uri": "https://localhost:8080/"
        },
        "id": "oH9FgPCL3wb6",
        "outputId": "a81e3810-b4a9-4a5c-94b1-203bc96f367e"
      },
      "outputs": [
        {
          "output_type": "stream",
          "name": "stdout",
          "text": [
            "The animals are: ['cat', 'dog', 'fish']\n",
            "The animal in the first list is: cat\n"
          ]
        }
      ],
      "source": [
        "#Accessing the elements in the array\n",
        "animals = ['cat', 'dog', 'fish']\n",
        "print('The animals are:',animals)\n",
        "print('The animal in the first list is:',animals[0])"
      ]
    },
    {
      "cell_type": "code",
      "source": [
        "#Modifying the elements in the array\n",
        "animals = ['cat', 'dog', 'fish']\n",
        "animals[0] = 'monkey'\n",
        "print(animals)"
      ],
      "metadata": {
        "colab": {
          "base_uri": "https://localhost:8080/"
        },
        "id": "94MwSCEX6upG",
        "outputId": "62c4b402-a89f-4e8b-e43c-f0040ca2e753"
      },
      "execution_count": null,
      "outputs": [
        {
          "output_type": "stream",
          "name": "stdout",
          "text": [
            "['monkey', 'dog', 'fish']\n"
          ]
        }
      ]
    },
    {
      "cell_type": "code",
      "source": [
        "#Length of the array\n",
        "animals = ['cat', 'dog', 'fish']\n",
        "x = len(animals)\n",
        "print(x)"
      ],
      "metadata": {
        "colab": {
          "base_uri": "https://localhost:8080/"
        },
        "id": "TosRze_27IGU",
        "outputId": "e6677fff-8299-4448-cdd5-32c95c38e32e"
      },
      "execution_count": null,
      "outputs": [
        {
          "output_type": "stream",
          "name": "stdout",
          "text": [
            "3\n"
          ]
        }
      ]
    },
    {
      "cell_type": "code",
      "source": [
        "#Looping array elements\n",
        "animals = ['cat', 'dog', 'fish']\n",
        "for x in animals:\n",
        "  print(x)"
      ],
      "metadata": {
        "colab": {
          "base_uri": "https://localhost:8080/"
        },
        "id": "r1-Su3-L7jrn",
        "outputId": "bf2eebad-3990-4653-e28f-2242b5d9d624"
      },
      "execution_count": null,
      "outputs": [
        {
          "output_type": "stream",
          "name": "stdout",
          "text": [
            "cat\n",
            "dog\n",
            "fish\n"
          ]
        }
      ]
    },
    {
      "cell_type": "code",
      "source": [
        "#Adding elements in the last list of an array\n",
        "animals = ['cat', 'dog', 'fish']\n",
        "animals.insert(1,'monkey')\n",
        "print(animals)\n",
        "#append\n",
        "animals.append('bird')\n",
        "print(animals)"
      ],
      "metadata": {
        "colab": {
          "base_uri": "https://localhost:8080/"
        },
        "id": "_iGutXK173_N",
        "outputId": "94cfff6d-f1c0-4f21-e8f7-9ee55f38a151"
      },
      "execution_count": null,
      "outputs": [
        {
          "output_type": "stream",
          "name": "stdout",
          "text": [
            "['cat', 'monkey', 'dog', 'fish']\n",
            "['cat', 'monkey', 'dog', 'fish', 'bird']\n"
          ]
        }
      ]
    },
    {
      "cell_type": "code",
      "source": [
        "#Removing\n",
        "animals.pop(3)\n",
        "print(animals)"
      ],
      "metadata": {
        "colab": {
          "base_uri": "https://localhost:8080/"
        },
        "id": "l5p9-y6C8dqU",
        "outputId": "9115badd-aa02-42f8-fc0b-f72aa663c37c"
      },
      "execution_count": null,
      "outputs": [
        {
          "output_type": "stream",
          "name": "stdout",
          "text": [
            "['cat', 'monkey', 'dog', 'bird']\n"
          ]
        }
      ]
    },
    {
      "cell_type": "code",
      "source": [
        "from array import *\n",
        "#Pychare community/student\n",
        "\n",
        "\n",
        "a = array('i',[1,2,3])\n",
        "print(a)\n",
        "a.typecode"
      ],
      "metadata": {
        "colab": {
          "base_uri": "https://localhost:8080/",
          "height": 53
        },
        "id": "O8Wd2y-GA4jz",
        "outputId": "80fb38c0-15b4-4e22-aa2b-36e3f00f5519"
      },
      "execution_count": 22,
      "outputs": [
        {
          "output_type": "stream",
          "name": "stdout",
          "text": [
            "array('i', [1, 2, 3])\n"
          ]
        },
        {
          "output_type": "execute_result",
          "data": {
            "text/plain": [
              "'i'"
            ],
            "application/vnd.google.colaboratory.intrinsic+json": {
              "type": "string"
            }
          },
          "metadata": {},
          "execution_count": 22
        }
      ]
    },
    {
      "cell_type": "code",
      "source": [
        "from array import *\n",
        "a = array('i',[1,2,3])\n",
        "a.itemsize"
      ],
      "metadata": {
        "colab": {
          "base_uri": "https://localhost:8080/"
        },
        "id": "kee761N6CZ7O",
        "outputId": "67786f2a-1a83-4abe-cbfd-d9ecf16b8b28"
      },
      "execution_count": 23,
      "outputs": [
        {
          "output_type": "execute_result",
          "data": {
            "text/plain": [
              "4"
            ]
          },
          "metadata": {},
          "execution_count": 23
        }
      ]
    },
    {
      "cell_type": "code",
      "source": [
        "from array import *\n",
        "a = array('i',[1,2,3])\n",
        "a.append(4)\n",
        "print(a)"
      ],
      "metadata": {
        "colab": {
          "base_uri": "https://localhost:8080/"
        },
        "id": "LHLTDSE4Dl6q",
        "outputId": "8c6c36e5-3847-4082-82d4-8712f410fc9b"
      },
      "execution_count": 31,
      "outputs": [
        {
          "output_type": "stream",
          "name": "stdout",
          "text": [
            "array('i', [1, 2, 3, 4])\n"
          ]
        }
      ]
    },
    {
      "cell_type": "code",
      "source": [
        "from array import *\n",
        "a = array('i',[1,2,3,3])\n",
        "a.count(3)\n",
        "a.insert(1,4)\n",
        "print(a)"
      ],
      "metadata": {
        "colab": {
          "base_uri": "https://localhost:8080/"
        },
        "id": "0VwCfAxiD0gF",
        "outputId": "d38fb64e-f2c9-441c-bee1-2f2c3f122724"
      },
      "execution_count": 33,
      "outputs": [
        {
          "output_type": "stream",
          "name": "stdout",
          "text": [
            "array('i', [1, 4, 2, 3, 3])\n"
          ]
        }
      ]
    }
  ]
}