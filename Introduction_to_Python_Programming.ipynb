{
  "nbformat": 4,
  "nbformat_minor": 0,
  "metadata": {
    "colab": {
      "provenance": [],
      "authorship_tag": "ABX9TyNaeZj6j58aGcqs4okJX68P",
      "include_colab_link": true
    },
    "kernelspec": {
      "name": "python3",
      "display_name": "Python 3"
    },
    "language_info": {
      "name": "python"
    }
  },
  "cells": [
    {
      "cell_type": "markdown",
      "metadata": {
        "id": "view-in-github",
        "colab_type": "text"
      },
      "source": [
        "<a href=\"https://colab.research.google.com/github/olaso14/PLNG211-QC/blob/main/Introduction_to_Python_Programming.ipynb\" target=\"_parent\"><img src=\"https://colab.research.google.com/assets/colab-badge.svg\" alt=\"Open In Colab\"/></a>"
      ]
    },
    {
      "cell_type": "markdown",
      "source": [
        "Phyton Indentation"
      ],
      "metadata": {
        "id": "W5hEruJrq9fd"
      }
    },
    {
      "cell_type": "markdown",
      "source": [
        "# New Section"
      ],
      "metadata": {
        "id": "Qi6qvGhBGVhy"
      }
    },
    {
      "cell_type": "code",
      "execution_count": null,
      "metadata": {
        "id": "VjSsHpX6qzlQ",
        "colab": {
          "base_uri": "https://localhost:8080/"
        },
        "outputId": "b97dd142-ce54-4003-9984-03671143014b"
      },
      "outputs": [
        {
          "output_type": "stream",
          "name": "stdout",
          "text": [
            "5 is greater than 2\n"
          ]
        }
      ],
      "source": [
        "#Python indentation example (labeling)\n",
        "\n",
        "if 5>2:\n",
        "  print(\"5 is greater than 2\")"
      ]
    },
    {
      "cell_type": "markdown",
      "source": [
        "Python Variable"
      ],
      "metadata": {
        "id": "465iHd6D7Liy"
      }
    },
    {
      "cell_type": "code",
      "source": [
        "x = 1\n",
        "a, b = 0,-1\n",
        "print(a)\n",
        "c = \"Sally\"\n",
        "c = \"Danny\"\n",
        "#Code is read by line so the newer declaration will be read.\n",
        "print(c)\n",
        "c = \"Maria\""
      ],
      "metadata": {
        "colab": {
          "base_uri": "https://localhost:8080/"
        },
        "id": "qNc1JdSi7Rc7",
        "outputId": "5d0b0c31-7c7f-4011-d4b1-512ace7ed959"
      },
      "execution_count": null,
      "outputs": [
        {
          "output_type": "stream",
          "name": "stdout",
          "text": [
            "0\n",
            "Danny\n"
          ]
        }
      ]
    },
    {
      "cell_type": "code",
      "source": [
        "print(c) \n",
        "#Code cell will print latest (c) declaration from"
      ],
      "metadata": {
        "colab": {
          "base_uri": "https://localhost:8080/"
        },
        "id": "_RVUjIUT7eyd",
        "outputId": "cd27fdc4-d2b6-4c32-faa2-f40f3c7a1d5c"
      },
      "execution_count": null,
      "outputs": [
        {
          "output_type": "stream",
          "name": "stdout",
          "text": [
            "Maria\n"
          ]
        }
      ]
    },
    {
      "cell_type": "markdown",
      "source": [
        "Multiple Variables"
      ],
      "metadata": {
        "id": "X_Fg7_sn7s8q"
      }
    },
    {
      "cell_type": "code",
      "source": [
        "#Multiple variables with declarations in a single line.\n",
        "f, g, h = \"one\", \"two\", \"three\"\n",
        "print(f)\n",
        "print(g)\n",
        "print(h)"
      ],
      "metadata": {
        "id": "xm6W1_mV7xuF"
      },
      "execution_count": null,
      "outputs": []
    },
    {
      "cell_type": "markdown",
      "source": [
        "Python Casting"
      ],
      "metadata": {
        "id": "3YUGkiHu72Di"
      }
    },
    {
      "cell_type": "code",
      "source": [
        "#Explicit type casting\n",
        "#Python needs user involvement to convert the variable data type into certain data type.\n",
        "d = int(4)\n",
        "print(d)\n",
        "e = float(4)\n",
        "print(e)"
      ],
      "metadata": {
        "colab": {
          "base_uri": "https://localhost:8080/"
        },
        "id": "6-zkrmox78tX",
        "outputId": "4a1ca356-fe2a-4141-a970-b89f49d7fe1d"
      },
      "execution_count": null,
      "outputs": [
        {
          "output_type": "stream",
          "name": "stdout",
          "text": [
            "4\n",
            "4.0\n"
          ]
        }
      ]
    },
    {
      "cell_type": "code",
      "source": [
        "#Implicit type casting\n",
        "#Python automatically converts data types.\n",
        "d = 4.0\n",
        "e = 4\n",
        "print(type(d))\n",
        "print(type(e))"
      ],
      "metadata": {
        "colab": {
          "base_uri": "https://localhost:8080/"
        },
        "id": "XUR043cO8FKf",
        "outputId": "50517477-0239-47a4-f36b-e75fc4135b4f"
      },
      "execution_count": null,
      "outputs": [
        {
          "output_type": "stream",
          "name": "stdout",
          "text": [
            "<class 'float'>\n",
            "<class 'int'>\n"
          ]
        }
      ]
    },
    {
      "cell_type": "markdown",
      "source": [
        "Single Quote or Double Quote"
      ],
      "metadata": {
        "id": "XjIp4rcw8TQ3"
      }
    },
    {
      "cell_type": "code",
      "source": [
        "print('Look')\n",
        "print(\"Look\")\n",
        "#Single or double quotation in python is interchangeable."
      ],
      "metadata": {
        "colab": {
          "base_uri": "https://localhost:8080/"
        },
        "id": "NrPYRo0t8YzJ",
        "outputId": "0afcab50-9986-4409-d216-4f4c53d05c7e"
      },
      "execution_count": null,
      "outputs": [
        {
          "output_type": "stream",
          "name": "stdout",
          "text": [
            "Look\n",
            "Look\n"
          ]
        }
      ]
    },
    {
      "cell_type": "markdown",
      "source": [
        "Single Value to Multiple Variables"
      ],
      "metadata": {
        "id": "r-Fb-fSF8jrR"
      }
    },
    {
      "cell_type": "code",
      "source": [
        "#Since x is equal to y and z, a single value can be stored in multiple variables in the declaration.\n",
        "x=y=z=\"Lilo\"\n",
        "print(x)\n",
        "print(y)\n",
        "print(z)"
      ],
      "metadata": {
        "colab": {
          "base_uri": "https://localhost:8080/"
        },
        "id": "Z4qyGp-n8nQq",
        "outputId": "1b8b5b8d-cac9-459b-f335-3f351e725c5b"
      },
      "execution_count": null,
      "outputs": [
        {
          "output_type": "stream",
          "name": "stdout",
          "text": [
            "Lilo\n",
            "Lilo\n",
            "Lilo\n"
          ]
        }
      ]
    },
    {
      "cell_type": "markdown",
      "source": [
        "Output Variables"
      ],
      "metadata": {
        "id": "_yYLJsQ88qa0"
      }
    },
    {
      "cell_type": "code",
      "source": [
        "#Print displays output of variables.\n",
        "s = \"Python\"\n",
        "t = \"is\"\n",
        "r = \"fun\"\n",
        "print(s + t + r)\n",
        "#No blank space declared in the variables. Can be added with a single/double quotation in the equation.\n",
        "print (s +' ' + t + ' '+ r)"
      ],
      "metadata": {
        "colab": {
          "base_uri": "https://localhost:8080/"
        },
        "id": "Q2I8xclo8tys",
        "outputId": "323914d2-4cdf-4848-9666-c462c40946ad"
      },
      "execution_count": null,
      "outputs": [
        {
          "output_type": "stream",
          "name": "stdout",
          "text": [
            "Pythonisfun\n",
            "Python is fun\n"
          ]
        }
      ]
    },
    {
      "cell_type": "markdown",
      "source": [
        "Arithmetics"
      ],
      "metadata": {
        "id": "j0xBn9Ce8x9P"
      }
    },
    {
      "cell_type": "code",
      "source": [
        "u = 5\n",
        "i = 4\n",
        "sum = u + i\n",
        "#Values will be declared in the variable sum \n",
        "print(sum)\n",
        "\n",
        "#Modulo division\n",
        "l = 4%2\n",
        "print(\"4%2\", l)\n",
        "\n",
        "#Floor division\n",
        "k = 3//2\n",
        "print(\"3//2\", k)"
      ],
      "metadata": {
        "colab": {
          "base_uri": "https://localhost:8080/"
        },
        "id": "V5PdOLRy81am",
        "outputId": "8fe3e305-3026-462c-fbcd-7c289dc7aa7b"
      },
      "execution_count": null,
      "outputs": [
        {
          "output_type": "stream",
          "name": "stdout",
          "text": [
            "9\n",
            "4%2 0\n",
            "3//2 1\n"
          ]
        }
      ]
    }
  ]
}