{
  "nbformat": 4,
  "nbformat_minor": 0,
  "metadata": {
    "colab": {
      "provenance": [],
      "authorship_tag": "ABX9TyNEAlzWLS3Qnw8ZBTLaZva1",
      "include_colab_link": true
    },
    "kernelspec": {
      "name": "python3",
      "display_name": "Python 3"
    },
    "language_info": {
      "name": "python"
    }
  },
  "cells": [
    {
      "cell_type": "markdown",
      "metadata": {
        "id": "view-in-github",
        "colab_type": "text"
      },
      "source": [
        "<a href=\"https://colab.research.google.com/github/olaso14/PLNG211-QC/blob/main/Operation_and_Expressions.ipynb\" target=\"_parent\"><img src=\"https://colab.research.google.com/assets/colab-badge.svg\" alt=\"Open In Colab\"/></a>"
      ]
    },
    {
      "cell_type": "markdown",
      "source": [
        "Boolean Operation"
      ],
      "metadata": {
        "id": "3WU0Bxrwgt3A"
      }
    },
    {
      "cell_type": "code",
      "execution_count": null,
      "metadata": {
        "colab": {
          "base_uri": "https://localhost:8080/"
        },
        "id": "L2bHxtYogmwN",
        "outputId": "6ba0e0d9-826b-4ce5-b4c8-3b68ef873bea"
      },
      "outputs": [
        {
          "output_type": "stream",
          "name": "stdout",
          "text": [
            "True\n",
            "False\n",
            "True\n"
          ]
        }
      ],
      "source": [
        "\n",
        "a=10\n",
        "\n",
        "b=9\n",
        "\n",
        "print(10>9)\n",
        "\n",
        "print(10<9)\n",
        "\n",
        "print(a!=b)"
      ]
    },
    {
      "cell_type": "markdown",
      "source": [
        "\n",
        "Bool() Function"
      ],
      "metadata": {
        "id": "Xkh3FourhKqw"
      }
    },
    {
      "cell_type": "code",
      "source": [
        "\n",
        "print(bool(15))\n",
        "\n",
        "print(bool(\"Maria\"))\n",
        "\n",
        "print(bool(0))\n",
        "\n",
        "print(bool(None))\n",
        "\n",
        "print(bool(False))"
      ],
      "metadata": {
        "colab": {
          "base_uri": "https://localhost:8080/"
        },
        "id": "ceJiLZFphWI8",
        "outputId": "a55a6d4c-fca2-495f-a6bb-b86384aae3b8"
      },
      "execution_count": null,
      "outputs": [
        {
          "output_type": "stream",
          "name": "stdout",
          "text": [
            "True\n",
            "True\n",
            "False\n",
            "False\n",
            "False\n"
          ]
        }
      ]
    },
    {
      "cell_type": "markdown",
      "source": [
        "Function that Return a Boolean"
      ],
      "metadata": {
        "id": "N8cpji_MhjoS"
      }
    },
    {
      "cell_type": "code",
      "source": [
        "def my_function():\n",
        "  return True\n",
        "\n",
        "if(my_function()):\n",
        " print(\"yes!\")\n",
        "else:\n",
        " print(\"no!\")"
      ],
      "metadata": {
        "colab": {
          "base_uri": "https://localhost:8080/"
        },
        "id": "NEOIOdfBhvB8",
        "outputId": "a86a082d-6b64-449d-d9a3-74bc02d35655"
      },
      "execution_count": null,
      "outputs": [
        {
          "output_type": "stream",
          "name": "stdout",
          "text": [
            "yes!\n"
          ]
        }
      ]
    },
    {
      "cell_type": "markdown",
      "source": [
        "\n",
        "Application 1"
      ],
      "metadata": {
        "id": "A7eN8cCriwmM"
      }
    },
    {
      "cell_type": "code",
      "source": [
        "c=6\n",
        "d=7\n",
        "print(c==d)\n",
        "print(c!=d)"
      ],
      "metadata": {
        "colab": {
          "base_uri": "https://localhost:8080/"
        },
        "id": "KauobIMxi092",
        "outputId": "b2ee9afa-5ff7-4e6c-b44c-999089d25bfd"
      },
      "execution_count": null,
      "outputs": [
        {
          "output_type": "stream",
          "name": "stdout",
          "text": [
            "False\n",
            "True\n"
          ]
        }
      ]
    },
    {
      "cell_type": "markdown",
      "source": [
        "\n",
        "Python Operation"
      ],
      "metadata": {
        "id": "ugjDuZ1UjKYM"
      }
    },
    {
      "cell_type": "code",
      "source": [
        "\n",
        "print(10+9)\n",
        "\n",
        "print(10-9)\n",
        "\n",
        "print(10*9)\n",
        "\n",
        "print(10/5)\n",
        "\n",
        "10//3\n",
        "\n",
        "print(10%3)"
      ],
      "metadata": {
        "colab": {
          "base_uri": "https://localhost:8080/"
        },
        "id": "U1Al1zNFjPBg",
        "outputId": "cb27abaf-90e9-4355-b65f-23b102d13992"
      },
      "execution_count": null,
      "outputs": [
        {
          "output_type": "stream",
          "name": "stdout",
          "text": [
            "19\n",
            "1\n",
            "90\n",
            "2.0\n",
            "1\n"
          ]
        }
      ]
    },
    {
      "cell_type": "markdown",
      "source": [
        "\n",
        "Bitwise Operators"
      ],
      "metadata": {
        "id": "-_UlK56jjTNl"
      }
    },
    {
      "cell_type": "code",
      "source": [
        "\n",
        "e = 60\n",
        "f = 13\n",
        "e ^ f"
      ],
      "metadata": {
        "colab": {
          "base_uri": "https://localhost:8080/"
        },
        "id": "Xm7IRf2CjXRy",
        "outputId": "e0e329da-1f5e-42ea-d9d3-3635ef294c91"
      },
      "execution_count": null,
      "outputs": [
        {
          "output_type": "execute_result",
          "data": {
            "text/plain": [
              "49"
            ]
          },
          "metadata": {},
          "execution_count": 22
        }
      ]
    },
    {
      "cell_type": "markdown",
      "source": [
        "Python Assignment Operator"
      ],
      "metadata": {
        "id": "hGM2jYTdjeUP"
      }
    },
    {
      "cell_type": "code",
      "source": [
        "x = 4\n",
        "x+=3\n",
        "print(\"x=\",x)"
      ],
      "metadata": {
        "colab": {
          "base_uri": "https://localhost:8080/"
        },
        "id": "ZrkZVJrXjkBh",
        "outputId": "1f102603-050b-4434-d7fe-280f204fb0cf"
      },
      "execution_count": null,
      "outputs": [
        {
          "output_type": "stream",
          "name": "stdout",
          "text": [
            "x= 7\n"
          ]
        }
      ]
    },
    {
      "cell_type": "markdown",
      "source": [
        "\n",
        "Identify Operators"
      ],
      "metadata": {
        "id": "1kwAmFerkrSS"
      }
    },
    {
      "cell_type": "code",
      "source": [
        "\n",
        "4 is 3\n",
        "\n",
        "7 is not 7"
      ],
      "metadata": {
        "id": "NpJtmAoYkvuS",
        "outputId": "2ed93f27-60b0-4ba9-a644-a0479c1fdc19",
        "colab": {
          "base_uri": "https://localhost:8080/"
        }
      },
      "execution_count": null,
      "outputs": [
        {
          "output_type": "execute_result",
          "data": {
            "text/plain": [
              "False"
            ]
          },
          "metadata": {},
          "execution_count": 38
        }
      ]
    }
  ]
}