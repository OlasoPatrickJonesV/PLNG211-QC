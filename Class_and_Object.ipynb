{
  "nbformat": 4,
  "nbformat_minor": 0,
  "metadata": {
    "colab": {
      "provenance": [],
      "authorship_tag": "ABX9TyOyyh+Z9XHYZcPATMWNPPhv",
      "include_colab_link": true
    },
    "kernelspec": {
      "name": "python3",
      "display_name": "Python 3"
    },
    "language_info": {
      "name": "python"
    }
  },
  "cells": [
    {
      "cell_type": "markdown",
      "metadata": {
        "id": "view-in-github",
        "colab_type": "text"
      },
      "source": [
        "<a href=\"https://colab.research.google.com/github/OlasoPatrickJonesV/PLNG211-QC/blob/main/Class_and_Object.ipynb\" target=\"_parent\"><img src=\"https://colab.research.google.com/assets/colab-badge.svg\" alt=\"Open In Colab\"/></a>"
      ]
    },
    {
      "cell_type": "code",
      "execution_count": 41,
      "metadata": {
        "colab": {
          "base_uri": "https://localhost:8080/"
        },
        "id": "aDm-66CMPf1f",
        "outputId": "c9d2b0d6-7078-42e4-8f14-b51c7432b2c9"
      },
      "outputs": [
        {
          "output_type": "stream",
          "name": "stdout",
          "text": [
            "The name of the person is: Ana\n",
            "The age of the person is: 36\n",
            "The name of the student is: Lino\n",
            "The age of the student is: 32\n",
            "The name of the teacher is: Maria\n",
            "The age of the teacher is: 39\n"
          ]
        }
      ],
      "source": [
        "class Person:\n",
        "  def __init__(self,name,age):\n",
        "    self.name = name  \n",
        "    self.age = age\n",
        "class Student(Person):\n",
        "  pass\n",
        "\n",
        "class Teacher(Person):\n",
        "  pass\n",
        "\n",
        "  def Name(self):\n",
        "    print(\"The person is:\"+self.name)\n",
        "\n",
        "person1 = Person(\"Ana\",36)  \n",
        "print(\"The name of the person is:\",person1.name)\n",
        "print(\"The age of the person is:\",person1.age)\n",
        "\n",
        "person2 = Student(\"Lino\",32)\n",
        "print(\"The name of the student is:\",person2.name)\n",
        "print(\"The age of the student is:\",person2.age)\n",
        "\n",
        "person3 = Teacher(\"Maria\",39)\n",
        "print(\"The name of the teacher is:\",person3.name)\n",
        "print(\"The age of the teacher is:\",person3.age)"
      ]
    },
    {
      "cell_type": "code",
      "source": [
        "person2.age = 30 #Modifying of object properties\n",
        "print(\"The name and age of student\", person2.name + \" \" + \"is\" + \" \" + str(person2.age))"
      ],
      "metadata": {
        "colab": {
          "base_uri": "https://localhost:8080/"
        },
        "id": "plr0YF-kVifx",
        "outputId": "bfbf4d06-7b81-41a6-edf9-12a44846da0e"
      },
      "execution_count": 35,
      "outputs": [
        {
          "output_type": "stream",
          "name": "stdout",
          "text": [
            "The name and age of student Lino is 30\n"
          ]
        }
      ]
    },
    {
      "cell_type": "code",
      "source": [
        "\n",
        "print(\"The name of the teacher is:\",person3.name)\n",
        "person3.age = 39\n",
        "print(\"The age of the teacher is:\",person3.age)\n",
        "\n",
        "del person3.age\n",
        "print(\"The age of the teacher is:\",person3.age)"
      ],
      "metadata": {
        "colab": {
          "base_uri": "https://localhost:8080/",
          "height": 235
        },
        "id": "lOJl-m9yXmsI",
        "outputId": "dea9e4b1-93f9-4310-fd2c-786a6f4d76f8"
      },
      "execution_count": 40,
      "outputs": [
        {
          "output_type": "stream",
          "name": "stdout",
          "text": [
            "The name of the teacher is: Maria\n",
            "The age of the teacher is: 39\n"
          ]
        },
        {
          "output_type": "error",
          "ename": "AttributeError",
          "evalue": "ignored",
          "traceback": [
            "\u001b[0;31m---------------------------------------------------------------------------\u001b[0m",
            "\u001b[0;31mAttributeError\u001b[0m                            Traceback (most recent call last)",
            "\u001b[0;32m<ipython-input-40-73b414e2c194>\u001b[0m in \u001b[0;36m<module>\u001b[0;34m\u001b[0m\n\u001b[1;32m      4\u001b[0m \u001b[0;34m\u001b[0m\u001b[0m\n\u001b[1;32m      5\u001b[0m \u001b[0;32mdel\u001b[0m \u001b[0mperson3\u001b[0m\u001b[0;34m.\u001b[0m\u001b[0mage\u001b[0m\u001b[0;34m\u001b[0m\u001b[0;34m\u001b[0m\u001b[0m\n\u001b[0;32m----> 6\u001b[0;31m \u001b[0mprint\u001b[0m\u001b[0;34m(\u001b[0m\u001b[0;34m\"The age of the teacher is:\"\u001b[0m\u001b[0;34m,\u001b[0m\u001b[0mperson3\u001b[0m\u001b[0;34m.\u001b[0m\u001b[0mage\u001b[0m\u001b[0;34m)\u001b[0m\u001b[0;34m\u001b[0m\u001b[0;34m\u001b[0m\u001b[0m\n\u001b[0m",
            "\u001b[0;31mAttributeError\u001b[0m: 'Teacher' object has no attribute 'age'"
          ]
        }
      ]
    },
    {
      "cell_type": "code",
      "source": [
        "#Application 1. Write a rectangle class in Python language with length and width as attributes\n",
        "#Create a Perimeter () and Area () as methos to compute for the perimeter and area of a rectangle"
      ],
      "metadata": {
        "id": "gv936-VWY1WT"
      },
      "execution_count": 42,
      "outputs": []
    }
  ]
}