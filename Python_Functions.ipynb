{
  "nbformat": 4,
  "nbformat_minor": 0,
  "metadata": {
    "colab": {
      "provenance": [],
      "authorship_tag": "ABX9TyOD1g5Tp2BmrBCve+JQ7jT3",
      "include_colab_link": true
    },
    "kernelspec": {
      "name": "python3",
      "display_name": "Python 3"
    },
    "language_info": {
      "name": "python"
    }
  },
  "cells": [
    {
      "cell_type": "markdown",
      "metadata": {
        "id": "view-in-github",
        "colab_type": "text"
      },
      "source": [
        "<a href=\"https://colab.research.google.com/github/OlasoPatrickJonesV/PLNG211-QC/blob/main/Python_Functions.ipynb\" target=\"_parent\"><img src=\"https://colab.research.google.com/assets/colab-badge.svg\" alt=\"Open In Colab\"/></a>"
      ]
    },
    {
      "cell_type": "code",
      "execution_count": null,
      "metadata": {
        "colab": {
          "base_uri": "https://localhost:8080/"
        },
        "id": "3PBmPLqNW3xq",
        "outputId": "82be23f5-23c1-4c6f-c132-bf0943e09686"
      },
      "outputs": [
        {
          "output_type": "stream",
          "name": "stdout",
          "text": [
            "100\n",
            "Celsius 37.78\n",
            "Kelvin 310.93\n"
          ]
        }
      ],
      "source": [
        "\n",
        "#Writing your own function/conversation\n",
        "def convert_to_celsius(fahrenheit):\n",
        "  return (fahrenheit-32) * 5/9\n",
        "\n",
        "\n",
        "\n",
        "def convert_to_kelvin(fahrenheit):\n",
        "  return ((fahrenheit -32) *5/9) + 273.15\n",
        "fahrenheit = int(input())\n",
        "\n",
        "\n",
        "print(\"Celsius\",round(convert_to_celsius(fahrenheit),2))\n",
        "print(\"Kelvin\",round(convert_to_kelvin(fahrenheit),2))"
      ]
    },
    {
      "cell_type": "code",
      "source": [
        "def Name():\n",
        "  pass"
      ],
      "metadata": {
        "id": "nu_7tI_7W-Sc"
      },
      "execution_count": null,
      "outputs": []
    },
    {
      "cell_type": "code",
      "source": [
        "def my_function(fname):\n",
        "  return(fname + \"Sayo\")\n",
        "print(my_function(\"Mam\"))\n",
        "print(my_function(\"Maria\"))\n",
        "print(my_function(\"Rizette\"))"
      ],
      "metadata": {
        "colab": {
          "base_uri": "https://localhost:8080/"
        },
        "id": "Rfp_in0gXDD7",
        "outputId": "af6b4463-c1b2-4663-f172-810e5a30a046"
      },
      "execution_count": null,
      "outputs": [
        {
          "output_type": "stream",
          "name": "stdout",
          "text": [
            "MamSayo\n",
            "MariaSayo\n",
            "RizetteSayo\n"
          ]
        }
      ]
    },
    {
      "cell_type": "code",
      "source": [
        "#Returns a value\n",
        "def myFunction(x):\n",
        "  return(5+x)\n",
        "print(myFunction(4))\n",
        "print(myFunction(5))\n",
        "print(myFunction(6))"
      ],
      "metadata": {
        "colab": {
          "base_uri": "https://localhost:8080/"
        },
        "id": "F2HHl7UhXt29",
        "outputId": "3a5912bb-99fa-4c16-d5af-33a174479433"
      },
      "execution_count": null,
      "outputs": [
        {
          "output_type": "stream",
          "name": "stdout",
          "text": [
            "9\n",
            "10\n",
            "11\n"
          ]
        }
      ]
    },
    {
      "cell_type": "code",
      "source": [
        "#Exercise 1\n",
        "print(min(2, 3, 4))\n",
        "print(max(2, -3, 4, 7, -5))\n",
        "print(max(2, -3, min(4, 7), -5))"
      ],
      "metadata": {
        "id": "fdwV16UBYUAq",
        "colab": {
          "base_uri": "https://localhost:8080/"
        },
        "outputId": "7b4f6f83-8590-4d54-f520-b202e603eb6d"
      },
      "execution_count": null,
      "outputs": [
        {
          "output_type": "stream",
          "name": "stdout",
          "text": [
            "2\n",
            "7\n",
            "4\n"
          ]
        }
      ]
    },
    {
      "cell_type": "code",
      "source": [
        "#Exercise 2\n",
        "def add_num(n1,n2,n3):\n",
        "   sum = n1 + n2 + n3\n",
        "   return sum\n",
        "\n",
        "num1 = int(input(\"Enter first number: \"))\n",
        "num2 = int(input(\"Enter second number: \"))\n",
        "num3 = int(input(\"Enter third number: \"))\n",
        "\n",
        "sum_num = add_num(num1, num2, num3)\n",
        "\n",
        "print(\"Sum:\", sum_num)\n",
        "\n",
        "def num(sum_num):\n",
        "  return (sum_num) / 3\n",
        "print(\"Average:\",round(num(sum_num),2))\n",
        "\n",
        "def squaresum(sum_num):\n",
        "   return (sum_num*(sum_num+1) * (2*sum_num+1)) // 6\n",
        "print(\"Square of Sum:\", squaresum(sum_num))"
      ],
      "metadata": {
        "colab": {
          "base_uri": "https://localhost:8080/"
        },
        "id": "Yzy8zTP6YYJs",
        "outputId": "7fd84f8d-8f5e-40a7-f683-8045f5483bb5"
      },
      "execution_count": 92,
      "outputs": [
        {
          "output_type": "stream",
          "name": "stdout",
          "text": [
            "Enter first number: 9\n",
            "Enter second number: 10\n",
            "Enter third number: 11\n",
            "Sum: 30\n",
            "Average: 10.0\n",
            "Square of Sum: 9455\n"
          ]
        }
      ]
    }
  ]
}