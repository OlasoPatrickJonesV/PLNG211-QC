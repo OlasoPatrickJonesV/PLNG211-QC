{
  "nbformat": 4,
  "nbformat_minor": 0,
  "metadata": {
    "colab": {
      "provenance": [],
      "authorship_tag": "ABX9TyPSqlqUmckqrwNOYW72nw5N",
      "include_colab_link": true
    },
    "kernelspec": {
      "name": "python3",
      "display_name": "Python 3"
    },
    "language_info": {
      "name": "python"
    }
  },
  "cells": [
    {
      "cell_type": "markdown",
      "metadata": {
        "id": "view-in-github",
        "colab_type": "text"
      },
      "source": [
        "<a href=\"https://colab.research.google.com/github/OlasoPatrickJonesV/PLNG211-QC/blob/main/Laboratory_Activity_1_(Finals).ipynb\" target=\"_parent\"><img src=\"https://colab.research.google.com/assets/colab-badge.svg\" alt=\"Open In Colab\"/></a>"
      ]
    },
    {
      "cell_type": "code",
      "execution_count": 41,
      "metadata": {
        "colab": {
          "base_uri": "https://localhost:8080/"
        },
        "id": "Jju_bVjA3H87",
        "outputId": "290b9ffe-2783-4251-d1b1-6c38e280f66b"
      },
      "outputs": [
        {
          "output_type": "stream",
          "name": "stdout",
          "text": [
            "Array List\n",
            "3\n",
            "6\n",
            "9\n",
            "10\n",
            "15\n",
            "33\n",
            "48\n",
            "50\n",
            "89\n",
            "90\n",
            "Sum: 353\n"
          ]
        }
      ],
      "source": [
        "#1\n",
        "arr = np.array([3,6,9,10,15,33,48,50,89,90])\n",
        "index = [0,1,2,3,4,5,6,7,8,9]\n",
        "print(\"Array List\")\n",
        "print(arr[0])\n",
        "print(arr[1])\n",
        "print(arr[2])\n",
        "print(arr[3])\n",
        "print(arr[4])\n",
        "print(arr[5])\n",
        "print(arr[6])\n",
        "print(arr[7])\n",
        "print(arr[8])\n",
        "print(arr[9])\n",
        "print(\"Sum:\",arr[index].sum())"
      ]
    },
    {
      "cell_type": "code",
      "source": [
        "\n",
        "#2\n",
        "numbers = [1, 2, 3, 4, 5, 6, 7, 8, 9, 10]\n",
        "print(\"Original Number:\",numbers)\n",
        "\n",
        "\n",
        "numbers.append(\"20\")\n",
        "print(\"New Number:\",numbers)"
      ],
      "metadata": {
        "colab": {
          "base_uri": "https://localhost:8080/"
        },
        "id": "oaaDuk5E9JWa",
        "outputId": "a69e0451-28c5-4c45-a033-f14110a6d019"
      },
      "execution_count": 37,
      "outputs": [
        {
          "output_type": "stream",
          "name": "stdout",
          "text": [
            "Original Number: [1, 2, 3, 4, 5, 6, 7, 8, 9, 10]\n",
            "New Number: [1, 2, 3, 4, 5, 6, 7, 8, 9, 10, '20']\n"
          ]
        }
      ]
    },
    {
      "cell_type": "code",
      "source": [
        "#3\n",
        "numbers = [1, 2, 3, 4, 5, 6, 7, 8, 9, 10]\n",
        "\n",
        "print(\"Original Number:\",numbers)\n",
        "\n",
        "numbers.insert(1,\"20\")\n",
        "\n",
        "print(\"New Number:\",numbers)"
      ],
      "metadata": {
        "colab": {
          "base_uri": "https://localhost:8080/"
        },
        "id": "SNIgbeNJBf8h",
        "outputId": "7db2610f-fdda-483b-a47f-613b8c716a7f"
      },
      "execution_count": 36,
      "outputs": [
        {
          "output_type": "stream",
          "name": "stdout",
          "text": [
            "Original Number: [1, 2, 3, 4, 5, 6, 7, 8, 9, 10]\n",
            "New Number: [1, '20', 2, 3, 4, 5, 6, 7, 8, 9, 10]\n"
          ]
        }
      ]
    },
    {
      "cell_type": "code",
      "source": [
        "#4\n",
        "numbers = [5, 4, 3, 2, 1]\n",
        "print(\"Original Number\",numbers)\n",
        "\n",
        "numbers.reverse()\n",
        "print(\"New Number\",numbers)"
      ],
      "metadata": {
        "colab": {
          "base_uri": "https://localhost:8080/"
        },
        "id": "tk6395iyDDQH",
        "outputId": "c32cf764-659b-47a0-8820-43fa38c6b68e"
      },
      "execution_count": 40,
      "outputs": [
        {
          "output_type": "stream",
          "name": "stdout",
          "text": [
            "Original Number [5, 4, 3, 2, 1]\n",
            "New Number [1, 2, 3, 4, 5]\n"
          ]
        }
      ]
    },
    {
      "cell_type": "code",
      "source": [
        "#5\n",
        "numbers = [5, 4, 3, 2, 1]\n",
        "print(\"Length of the array is:\",len(numbers))"
      ],
      "metadata": {
        "colab": {
          "base_uri": "https://localhost:8080/"
        },
        "id": "Y__Dl5T7EHEM",
        "outputId": "5e5f9958-c81e-4c7b-e25f-3f6ac6a6d7e6"
      },
      "execution_count": 42,
      "outputs": [
        {
          "output_type": "stream",
          "name": "stdout",
          "text": [
            "Length of the array is: 5\n"
          ]
        }
      ]
    }
  ]
}