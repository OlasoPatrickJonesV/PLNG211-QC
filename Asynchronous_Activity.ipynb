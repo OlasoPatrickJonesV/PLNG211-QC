{
  "nbformat": 4,
  "nbformat_minor": 0,
  "metadata": {
    "colab": {
      "provenance": [],
      "authorship_tag": "ABX9TyMCT3NzJl0cThK8pjnLBstK",
      "include_colab_link": true
    },
    "kernelspec": {
      "name": "python3",
      "display_name": "Python 3"
    },
    "language_info": {
      "name": "python"
    }
  },
  "cells": [
    {
      "cell_type": "markdown",
      "metadata": {
        "id": "view-in-github",
        "colab_type": "text"
      },
      "source": [
        "<a href=\"https://colab.research.google.com/github/olaso14/PLNG211-QC/blob/main/Asynchronous_Activity.ipynb\" target=\"_parent\"><img src=\"https://colab.research.google.com/assets/colab-badge.svg\" alt=\"Open In Colab\"/></a>"
      ]
    },
    {
      "cell_type": "code",
      "execution_count": 1,
      "metadata": {
        "colab": {
          "base_uri": "https://localhost:8080/"
        },
        "id": "l12ltsu7Wjy7",
        "outputId": "d05b3ca3-47f0-417f-a7e8-303da5f3d704"
      },
      "outputs": [
        {
          "output_type": "stream",
          "name": "stdout",
          "text": [
            "Salary: 9000\n",
            "Taxable Amount: 2700.0\n",
            "Net Pay: 6300.0\n"
          ]
        }
      ],
      "source": [
        "#Asynchronous Activity \n",
        "Salary_rate = 600\n",
        "Salary = Salary_rate * 15\n",
        "Taxable_amount = Salary * 0.30\n",
        "Net_pay = Salary - Taxable_amount\n",
        "print(\"Salary:\",Salary)\n",
        "print(\"Taxable Amount:\",Taxable_amount)\n",
        "print(\"Net Pay:\",Net_pay)"
      ]
    }
  ]
}